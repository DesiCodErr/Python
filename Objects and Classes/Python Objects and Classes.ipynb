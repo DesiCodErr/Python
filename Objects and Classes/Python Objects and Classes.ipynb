{
 "cells": [
  {
   "cell_type": "markdown",
   "metadata": {},
   "source": [
    "___This Youtube video corresponding to this jupyter notebook is @___\n",
    "\n",
    "https://www.youtube.com/watch?v=DKP2eGdGFzU&list=PLafbLvGlHqdtWf9Eh5wPBk8F7NgMHeneO&index=6\n",
    "\n",
    "<br/><br/><br/>\n",
    "\n"
   ]
  },
  {
   "cell_type": "markdown",
   "metadata": {},
   "source": [
    "### Python Objects and Classes\n",
    "\n",
    "<br/><br/><br/>\n",
    "\n",
    "\n",
    "__Recap - An object is something which can be uniquely identified__\n",
    "\n",
    "<br/><br/>\n",
    "___All objects contain Characteristics (Data) & Behaviour (Function)___\n",
    "\n",
    "<br/><br/><br/>"
   ]
  },
  {
   "cell_type": "markdown",
   "metadata": {},
   "source": [
    "### What is a Class?\n",
    "\n",
    "<br/><br/><br/>\n",
    "\n",
    "___A class is a blueprint of an Object___\n",
    "\n",
    "<br/><br/>\n"
   ]
  },
  {
   "cell_type": "markdown",
   "metadata": {},
   "source": [
    "### Before classes... Let's talk about Python Dictionary\n",
    "\n",
    "<br/><br/>\n",
    "\n",
    "___A Key Value Pair___\n",
    "\n",
    "<br/><br/>"
   ]
  },
  {
   "cell_type": "markdown",
   "metadata": {},
   "source": [
    "<br/><br/>\n",
    "___Dictionaries can also represent the static state of an object, i.e. objects which doesn’t change its behaviour___\n",
    "\n",
    "<br/><br/><br/>"
   ]
  },
  {
   "cell_type": "markdown",
   "metadata": {},
   "source": [
    "<br/><br/>\n",
    "___As an example, let’s consider the postal address of people in a local community, we can represent individual addresses as___\n",
    "<br/><br/><br/><br/>\n",
    "\n",
    "_Here p1, p2, & p3 represent different people_\n",
    "<br/>"
   ]
  },
  {
   "cell_type": "code",
   "execution_count": null,
   "metadata": {},
   "outputs": [],
   "source": [
    "p1 = {'name' : \"ABC\" , 'street': \"Central Street - 1\" }\n",
    "p2 = {'name' : \"DEF\" , 'street': \"Central Street - 2\" }\n",
    "p3 = {'name' : \"AXY\" , 'street': \"Central Street - 1\" }"
   ]
  },
  {
   "cell_type": "code",
   "execution_count": null,
   "metadata": {},
   "outputs": [],
   "source": [
    "p1"
   ]
  },
  {
   "cell_type": "markdown",
   "metadata": {},
   "source": [
    "<br/><br/><br/>\n",
    "\n",
    "### Python Class\n",
    "\n",
    "<br/><br/>\n",
    "\n",
    "_Just as we store postal addresses in dictionaries above, we can also store them using objects of the class too_\n",
    "\n",
    "<br/>"
   ]
  },
  {
   "cell_type": "code",
   "execution_count": null,
   "metadata": {},
   "outputs": [],
   "source": [
    "# dummy class \n",
    "# Because Python is unique\n",
    "\n",
    "class PostalAddress:\n",
    "    pass\n"
   ]
  },
  {
   "cell_type": "code",
   "execution_count": null,
   "metadata": {},
   "outputs": [],
   "source": [
    "# Create an Instance for person ABC\n",
    "\n",
    "cP1 = PostalAddress()\n",
    "\n",
    "cP1.name = \"ABC\"\n",
    "cP1.street = \"Central Street - 1\"\n"
   ]
  },
  {
   "cell_type": "code",
   "execution_count": null,
   "metadata": {},
   "outputs": [],
   "source": [
    "# Create an Instance for person DEF\n",
    "\n",
    "cP2 = PostalAddress()\n",
    "\n",
    "\n",
    "cP2.name = \"DEF\"\n",
    "cP2.street = \"Central Street - 2\"\n"
   ]
  },
  {
   "cell_type": "markdown",
   "metadata": {},
   "source": [
    "<br/><br/>\n",
    "\n",
    "___So, we now have two ways of creating and keeping PostAddress i.e via Dictionaries or by using Objects of the Class___\n",
    "\n",
    "<br/><br/>"
   ]
  },
  {
   "cell_type": "code",
   "execution_count": null,
   "metadata": {},
   "outputs": [],
   "source": [
    "#Python objects can also be depicted in form of a Dictionary\n",
    "\n",
    "print(cP1.__dict__)"
   ]
  },
  {
   "cell_type": "code",
   "execution_count": null,
   "metadata": {},
   "outputs": [],
   "source": [
    "print(cP2.__dict__)"
   ]
  },
  {
   "cell_type": "code",
   "execution_count": null,
   "metadata": {},
   "outputs": [],
   "source": [
    "# The output will be same as p1 and p2\n",
    "\n",
    "p1"
   ]
  },
  {
   "cell_type": "code",
   "execution_count": null,
   "metadata": {},
   "outputs": [],
   "source": [
    "p2"
   ]
  },
  {
   "cell_type": "markdown",
   "metadata": {},
   "source": [
    "<br/><br/><br/>\n",
    "\n",
    "___This doesn’t mean that Python stores the objects as dictionaries, but we can safely conclude that Dictionaries can also represent static state objects___\n",
    "\n",
    "<br/><br/><br/>"
   ]
  },
  {
   "cell_type": "code",
   "execution_count": null,
   "metadata": {},
   "outputs": [],
   "source": [
    "print(cP1.name)"
   ]
  },
  {
   "cell_type": "code",
   "execution_count": null,
   "metadata": {},
   "outputs": [],
   "source": [
    "print(p1[\"name\"])"
   ]
  },
  {
   "cell_type": "code",
   "execution_count": null,
   "metadata": {},
   "outputs": [],
   "source": [
    "print(cP1.__dict__[\"name\"])"
   ]
  },
  {
   "cell_type": "markdown",
   "metadata": {},
   "source": [
    "<br/><br/><br/>\n",
    "\n",
    "___So Why need a class, we can depict the objects as dctionary also___\n",
    "\n",
    "<br/><br/>\n",
    "\n",
    "___Let's understand why this is not a great idea___\n",
    "\n",
    "<br/><br/>"
   ]
  },
  {
   "cell_type": "code",
   "execution_count": null,
   "metadata": {},
   "outputs": [],
   "source": [
    "# What if we do this?\n",
    "\n",
    "p1 = {'name' : \"ABC\" , 'street': \"Central Street - 1\" }\n",
    "\n",
    "p2 = {'names' : \"DEF\" , 'street': \"Central Street - 2\", \"NewVar\" : \"Not Needed\" }"
   ]
  },
  {
   "cell_type": "code",
   "execution_count": null,
   "metadata": {},
   "outputs": [],
   "source": [
    "\n",
    "class PostalAddress:\n",
    "    pass\n"
   ]
  },
  {
   "cell_type": "code",
   "execution_count": null,
   "metadata": {},
   "outputs": [],
   "source": [
    "cP1 = PostalAddress()\n",
    "cP1.name = \"ABC\"\n",
    "\n",
    "cP2 = PostalAddress()\n",
    "cP2.names = \"DEF\"\n",
    "cP2.NewVar = \"Not Needed\""
   ]
  },
  {
   "cell_type": "markdown",
   "metadata": {},
   "source": [
    "<br/><br/>\n",
    "\n",
    "___This is where we use class to define the blueprint so that every object of the same type has the same characteristics.___\n",
    "\n",
    "<br/><br/>\n",
    "\n",
    "The __init(...)__ function\n",
    "\n",
    "<br/><br/>"
   ]
  },
  {
   "cell_type": "code",
   "execution_count": null,
   "metadata": {},
   "outputs": [],
   "source": [
    "class PostalAddress:\n",
    "    \n",
    "    def __init__(self):\n",
    "        self.name = \"ABC\"\n",
    "        self.street = \"Central Street - 1\"\n",
    "        \n",
    "#Note: Self is not a KeyWord    "
   ]
  },
  {
   "cell_type": "code",
   "execution_count": null,
   "metadata": {},
   "outputs": [],
   "source": [
    "cP1 = PostalAddress()\n",
    "print(cP1.__dict__)"
   ]
  },
  {
   "cell_type": "markdown",
   "metadata": {},
   "source": [
    "<br/><br/>\n",
    "\n",
    "___Adding Functions to the class___\n",
    "\n",
    "<br/><br/>"
   ]
  },
  {
   "cell_type": "code",
   "execution_count": null,
   "metadata": {},
   "outputs": [],
   "source": [
    "class PostalAddress:\n",
    "    \n",
    "    def __init__(self):\n",
    "        self.name = \"ABC\"\n",
    "        self.street = \"Centeral Street - 1\"\n",
    "        \n",
    "    def prnInfo(self):\n",
    "        print(\"Name => \", self.name, \"  Street =>\", self.street)\n",
    "        \n",
    "#Note: Just like __init__, all functions take self as an Argument\n",
    "# Why?? - See Below"
   ]
  },
  {
   "cell_type": "code",
   "execution_count": null,
   "metadata": {},
   "outputs": [],
   "source": [
    "cP1 = PostalAddress()\n",
    "cP1.prnInfo()"
   ]
  },
  {
   "cell_type": "markdown",
   "metadata": {},
   "source": [
    "<br/><br/><br/>\n",
    "___We can also call the functions using the class instead of an object, however, if we want to call the method via the class we need to explicitly pass the instance, i.e self___\n",
    "\n",
    "<br/><br/><br/>"
   ]
  },
  {
   "cell_type": "code",
   "execution_count": null,
   "metadata": {},
   "outputs": [],
   "source": [
    "cP1 = PostalAddress()\n",
    "\n",
    "# Calling the function using class, we provide the instance\n",
    "PostalAddress.prnInfo(cP1)\n"
   ]
  },
  {
   "cell_type": "code",
   "execution_count": null,
   "metadata": {},
   "outputs": [],
   "source": [
    "\n",
    "# This is same as\n",
    "\n",
    "cP1.prnInfo()\n"
   ]
  },
  {
   "cell_type": "markdown",
   "metadata": {},
   "source": [
    "<br/><br/><br/>\n",
    "\n",
    "###  Parametrised __init__\n",
    "\n",
    "<br/><br/>\n",
    "\n",
    "___What is we want class to create multiple postal addresses___\n",
    "\n",
    "<br/><br/><br/>"
   ]
  },
  {
   "cell_type": "code",
   "execution_count": null,
   "metadata": {},
   "outputs": [],
   "source": [
    "# PostalAddress taking name and street as input parameter\n",
    "\n",
    "class PostalAddress:\n",
    "\n",
    "    def __init__(self, name, street):\n",
    "        self.name = name\n",
    "        self.street = street\n",
    "    \n",
    "    def prnInfo(self):\n",
    "        print(\"Name => \", self.name, \"  Street =>\", self.street)\n"
   ]
  },
  {
   "cell_type": "code",
   "execution_count": null,
   "metadata": {},
   "outputs": [],
   "source": [
    "\n",
    "cP1 = PostalAddress(\"ABC\", \"Central Street - 1\")\n",
    "cP1.prnInfo()\n"
   ]
  },
  {
   "cell_type": "code",
   "execution_count": null,
   "metadata": {},
   "outputs": [],
   "source": [
    "\n",
    "cP2 = PostalAddress(\"DEF\", \"Central Street - 2\")\n",
    "cP2.prnInfo()\n"
   ]
  },
  {
   "cell_type": "markdown",
   "metadata": {},
   "source": [
    "<br/><br/><br/>\n",
    "\n",
    "###  Multiple variations of __init__\n",
    "\n",
    "<br/><br/>\n",
    "\n",
    "___unlike Java & C++, Overloading is not supported___\n",
    "<br/><br/>\n",
    "\n",
    "___This can be supported using default arguments of the parameters___\n",
    "<br/><br/><br/>"
   ]
  },
  {
   "cell_type": "code",
   "execution_count": null,
   "metadata": {},
   "outputs": [],
   "source": [
    "# __init__ with default arguments\n",
    "\n",
    "class PostalAddress:\n",
    "    \n",
    "    def __init__(self, name = \"Default Name\", street = \"Central Street - 1\"):\n",
    "        self.name = name\n",
    "        self.street = street\n"
   ]
  },
  {
   "cell_type": "code",
   "execution_count": null,
   "metadata": {},
   "outputs": [],
   "source": [
    "# 0 Arguments\n",
    "cP0 = PostalAddress();   "
   ]
  },
  {
   "cell_type": "code",
   "execution_count": null,
   "metadata": {},
   "outputs": [],
   "source": [
    "cP0.name"
   ]
  },
  {
   "cell_type": "code",
   "execution_count": null,
   "metadata": {},
   "outputs": [],
   "source": [
    "cP0.street"
   ]
  },
  {
   "cell_type": "code",
   "execution_count": null,
   "metadata": {},
   "outputs": [],
   "source": [
    "# 1 Arguments\n",
    "cP1 = PostalAddress(\"ABC\") "
   ]
  },
  {
   "cell_type": "code",
   "execution_count": null,
   "metadata": {},
   "outputs": [],
   "source": [
    "# 2 Arguments\n",
    "cP2 = PostalAddress(\"DEF\", \"Central Street - 2\") "
   ]
  },
  {
   "cell_type": "markdown",
   "metadata": {},
   "source": [
    "<br/><br/><br/>\n",
    "\n",
    "###  Instance variables can be added beyond  __init__ function\n",
    "\n",
    "<br/><br/><br/>"
   ]
  },
  {
   "cell_type": "code",
   "execution_count": null,
   "metadata": {},
   "outputs": [],
   "source": [
    "# Creating new member in a function\n",
    "\n",
    "class PostalAddress:\n",
    "    \n",
    "    def __init__(self, name = \"Default Name\", street = \"Central Street - 1\"):\n",
    "        self.name = name\n",
    "        self.street = street\n",
    "\n",
    "    def createMember(self):                    \n",
    "        self.newMember = \"Temporary Value\"  # New Instance Variable\n"
   ]
  },
  {
   "cell_type": "code",
   "execution_count": null,
   "metadata": {},
   "outputs": [],
   "source": [
    "# Dict BEFORE calling the function\n",
    "\n",
    "cP0 = PostalAddress();\n",
    "print(cP0.__dict__);\n"
   ]
  },
  {
   "cell_type": "code",
   "execution_count": null,
   "metadata": {},
   "outputs": [],
   "source": [
    "# Dict AFTER calling the function\n",
    "\n",
    "cP0.createMember();\n",
    "print(cP0.__dict__);\n"
   ]
  },
  {
   "cell_type": "markdown",
   "metadata": {},
   "source": [
    "<br/><br/><br/>\n",
    "\n",
    "###  Class Variables\n",
    "\n",
    "<br/><br/><br/>"
   ]
  },
  {
   "cell_type": "markdown",
   "metadata": {},
   "source": [
    " <br/><br/>\n",
    " \n",
    " ___What if we want all Objects of the class PostalAddress must have the same postal code?___\n",
    " \n",
    " <br/><br/>"
   ]
  },
  {
   "cell_type": "code",
   "execution_count": null,
   "metadata": {},
   "outputs": [],
   "source": [
    "# Approach - 1 : We can create a hard coded postal code\n",
    "\n",
    "class PostalAddress:\n",
    "    \n",
    "    def __init__(self, name = \"Default Name\", street = \"Central Street - 1\"):\n",
    "        self.name = name\n",
    "        self.street = street\n",
    "        \n",
    "        self.postalcode = 12345         # Hardcoding Postal Code\n",
    "        "
   ]
  },
  {
   "cell_type": "code",
   "execution_count": null,
   "metadata": {},
   "outputs": [],
   "source": [
    "\n",
    "cP0 = PostalAddress();\n",
    "print(cP0.__dict__); \n"
   ]
  },
  {
   "cell_type": "code",
   "execution_count": null,
   "metadata": {},
   "outputs": [],
   "source": [
    "\n",
    "cP1 = PostalAddress(\"ABC\")\n",
    "print(cP1.__dict__)\n"
   ]
  },
  {
   "cell_type": "markdown",
   "metadata": {},
   "source": [
    "<br/><br/><br/>\n",
    "\n",
    "___What is we want to change the postal code at a later point of time?___\n",
    "\n",
    "<br/><br/><br/>"
   ]
  },
  {
   "cell_type": "code",
   "execution_count": null,
   "metadata": {},
   "outputs": [],
   "source": [
    "cP0.postalcode = 54321\n",
    "\n",
    "cP1.postalcode = 54321"
   ]
  },
  {
   "cell_type": "code",
   "execution_count": null,
   "metadata": {},
   "outputs": [],
   "source": [
    "print(cP0.__dict__)"
   ]
  },
  {
   "cell_type": "code",
   "execution_count": null,
   "metadata": {},
   "outputs": [],
   "source": [
    "print(cP1.__dict__)"
   ]
  },
  {
   "cell_type": "markdown",
   "metadata": {},
   "source": [
    "<br/><br/><br/>\n",
    "\n",
    "___Not good... right? then we can use Class Variables___\n",
    "\n",
    "<br/><br/><br/>"
   ]
  },
  {
   "cell_type": "code",
   "execution_count": null,
   "metadata": {},
   "outputs": [],
   "source": [
    "# Postal code : As class Variables\n",
    "\n",
    "class PostalAddress:\n",
    "    \n",
    "    postalCode = 12345;   # class Variable\n",
    "    \n",
    "    def __init__(self, name = \"Default Name\", street = \"Central Street - 1\"):\n",
    "        self.name = name\n",
    "        self.street = street\n",
    "        "
   ]
  },
  {
   "cell_type": "code",
   "execution_count": null,
   "metadata": {},
   "outputs": [],
   "source": [
    "\n",
    "cP0 = PostalAddress()\n",
    "print(cP0.postalCode) # should print 12345\n"
   ]
  },
  {
   "cell_type": "markdown",
   "metadata": {},
   "source": [
    "<br/><br/><br/>\n",
    "___Class Variables are defined as part of the class and not of the instance, so is NOT part of the OBJECT dict, but available in CLASS dict___\n",
    "\n",
    "<br/><br/><br/>"
   ]
  },
  {
   "cell_type": "code",
   "execution_count": null,
   "metadata": {},
   "outputs": [],
   "source": [
    "# Object Dict\n",
    "\n",
    "print(cP0.__dict__)\n"
   ]
  },
  {
   "cell_type": "code",
   "execution_count": null,
   "metadata": {},
   "outputs": [],
   "source": [
    "# Class Dict\n",
    "\n",
    "print(PostalAddress.__dict__)\n"
   ]
  },
  {
   "cell_type": "markdown",
   "metadata": {},
   "source": [
    "<br/><br/>\n",
    "\n",
    "___Python lookup algorithm looks into object first, followed by class___\n",
    "\n",
    "<br/><br/>\n",
    "\n",
    "___Here is how we can change the Postal Code for all objects___\n",
    "\n",
    "<br/><br/><br/>"
   ]
  },
  {
   "cell_type": "code",
   "execution_count": null,
   "metadata": {},
   "outputs": [],
   "source": [
    "# Instance created Before\n",
    "\n",
    "cP0 = PostalAddress()\n",
    "\n",
    "cP1 = PostalAddress()\n",
    "\n"
   ]
  },
  {
   "cell_type": "code",
   "execution_count": null,
   "metadata": {},
   "outputs": [],
   "source": [
    "print(cP0.postalCode)"
   ]
  },
  {
   "cell_type": "code",
   "execution_count": null,
   "metadata": {},
   "outputs": [],
   "source": [
    "print(cP1.postalCode)"
   ]
  },
  {
   "cell_type": "code",
   "execution_count": null,
   "metadata": {},
   "outputs": [],
   "source": [
    "# Change in Postal Code\n",
    "\n",
    "PostalAddress.postalCode = 54321\n"
   ]
  },
  {
   "cell_type": "code",
   "execution_count": null,
   "metadata": {},
   "outputs": [],
   "source": [
    "# Print after change\n",
    "\n",
    "print(cP0.postalCode)"
   ]
  },
  {
   "cell_type": "code",
   "execution_count": null,
   "metadata": {},
   "outputs": [],
   "source": [
    "# Print after change\n",
    "\n",
    "print(cP1.postalCode)"
   ]
  },
  {
   "cell_type": "markdown",
   "metadata": {},
   "source": [
    "<br/><br/><br/>\n",
    "\n",
    "###  Class Methods - Providing a Function to change Class Variables\n",
    "\n",
    "<br/><br/><br/>"
   ]
  },
  {
   "cell_type": "code",
   "execution_count": null,
   "metadata": {},
   "outputs": [],
   "source": [
    "# Class with class method\n",
    "\n",
    "class PostalAddress:\n",
    "    \n",
    "    postalCode = 12345;   # class Variable\n",
    "\n",
    "    def __init__(self, name = \"Default Name\", street = \"Central Street - 1\"):\n",
    "        self.name = name\n",
    "        self.street = street\n",
    "\n",
    "    @classmethod\n",
    "    def newPostalCode(cls, newcode):  # This is class method,\n",
    "        cls.postalCode = newcode    # Takes class instead of self\n",
    "        \n",
    "        "
   ]
  },
  {
   "cell_type": "code",
   "execution_count": null,
   "metadata": {},
   "outputs": [],
   "source": [
    "# Create the instance\n",
    "\n",
    "cP0 = PostalAddress()\n",
    "cP1 = PostalAddress()\n"
   ]
  },
  {
   "cell_type": "code",
   "execution_count": null,
   "metadata": {},
   "outputs": [],
   "source": [
    "print(cP0.postalCode), print(cP1.postalCode)"
   ]
  },
  {
   "cell_type": "markdown",
   "metadata": {},
   "source": [
    "<br/><br/><br/>\n",
    "\n",
    "####  Class methods can be called by Objects or Classes both\n",
    "\n",
    "<br/><br/><br/>"
   ]
  },
  {
   "cell_type": "code",
   "execution_count": null,
   "metadata": {},
   "outputs": [],
   "source": [
    "# Even 1 instance call will change all instances\n",
    "\n",
    "cP0.newPostalCode(9999)\n",
    "\n"
   ]
  },
  {
   "cell_type": "code",
   "execution_count": null,
   "metadata": {},
   "outputs": [],
   "source": [
    "print(cP0.postalCode), print(cP1.postalCode)"
   ]
  },
  {
   "cell_type": "code",
   "execution_count": null,
   "metadata": {},
   "outputs": [],
   "source": [
    "# Reset the class variable\n",
    "\n",
    "PostalAddress.postalCode = 12345"
   ]
  },
  {
   "cell_type": "markdown",
   "metadata": {},
   "source": [
    "<br/><br/><br/>\n",
    "\n",
    "___Calling using Class method___\n",
    "\n",
    "<br/><br/><br/>"
   ]
  },
  {
   "cell_type": "code",
   "execution_count": null,
   "metadata": {},
   "outputs": [],
   "source": [
    "# Create the instance\n",
    "\n",
    "cP0 = PostalAddress()\n",
    "cP1 = PostalAddress()"
   ]
  },
  {
   "cell_type": "code",
   "execution_count": null,
   "metadata": {},
   "outputs": [],
   "source": [
    "print(cP0.postalCode), print(cP1.postalCode)"
   ]
  },
  {
   "cell_type": "code",
   "execution_count": null,
   "metadata": {},
   "outputs": [],
   "source": [
    "# Call using class Variables\n",
    "\n",
    "PostalAddress.newPostalCode(1111)"
   ]
  },
  {
   "cell_type": "code",
   "execution_count": null,
   "metadata": {},
   "outputs": [],
   "source": [
    "print(cP0.postalCode), print(cP1.postalCode)"
   ]
  },
  {
   "cell_type": "code",
   "execution_count": null,
   "metadata": {},
   "outputs": [],
   "source": []
  },
  {
   "cell_type": "code",
   "execution_count": null,
   "metadata": {},
   "outputs": [],
   "source": []
  },
  {
   "cell_type": "code",
   "execution_count": null,
   "metadata": {},
   "outputs": [],
   "source": []
  },
  {
   "cell_type": "code",
   "execution_count": null,
   "metadata": {},
   "outputs": [],
   "source": []
  },
  {
   "cell_type": "code",
   "execution_count": null,
   "metadata": {},
   "outputs": [],
   "source": []
  },
  {
   "cell_type": "code",
   "execution_count": null,
   "metadata": {},
   "outputs": [],
   "source": []
  },
  {
   "cell_type": "code",
   "execution_count": null,
   "metadata": {},
   "outputs": [],
   "source": []
  },
  {
   "cell_type": "code",
   "execution_count": null,
   "metadata": {},
   "outputs": [],
   "source": []
  }
 ],
 "metadata": {
  "kernelspec": {
   "display_name": "Python 3",
   "language": "python",
   "name": "python3"
  },
  "language_info": {
   "codemirror_mode": {
    "name": "ipython",
    "version": 3
   },
   "file_extension": ".py",
   "mimetype": "text/x-python",
   "name": "python",
   "nbconvert_exporter": "python",
   "pygments_lexer": "ipython3",
   "version": "3.8.3"
  }
 },
 "nbformat": 4,
 "nbformat_minor": 4
}
